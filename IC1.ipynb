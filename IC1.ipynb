{
 "cells": [
  {
   "cell_type": "code",
   "execution_count": 1,
   "metadata": {},
   "outputs": [
    {
     "name": "stderr",
     "output_type": "stream",
     "text": [
      "Using TensorFlow backend.\n"
     ]
    }
   ],
   "source": [
    "# Importing the Keras libraries and packages\n",
    "from keras.models import Sequential\n",
    "from keras.layers import Conv2D\n",
    "from keras.layers import MaxPooling2D\n",
    "from keras.layers import Flatten\n",
    "from keras.layers import Dense"
   ]
  },
  {
   "cell_type": "code",
   "execution_count": 2,
   "metadata": {},
   "outputs": [],
   "source": [
    "# Initialising the CNN\n",
    "classifier = Sequential()"
   ]
  },
  {
   "cell_type": "code",
   "execution_count": 3,
   "metadata": {},
   "outputs": [],
   "source": [
    "# Step 1 - Convolution\n",
    "classifier.add(Conv2D(32, (3, 3), input_shape = (64, 64, 3), activation = 'relu'))"
   ]
  },
  {
   "cell_type": "code",
   "execution_count": 4,
   "metadata": {},
   "outputs": [],
   "source": [
    "# Step 2 - Pooling\n",
    "classifier.add(MaxPooling2D(pool_size = (2, 2)))"
   ]
  },
  {
   "cell_type": "code",
   "execution_count": 5,
   "metadata": {},
   "outputs": [],
   "source": [
    "# Adding a second convolutional layer\n",
    "classifier.add(Conv2D(32, (3, 3), activation = 'relu'))\n",
    "classifier.add(MaxPooling2D(pool_size = (2, 2)))"
   ]
  },
  {
   "cell_type": "code",
   "execution_count": 6,
   "metadata": {},
   "outputs": [],
   "source": [
    "# Step 3 - Flattening\n",
    "classifier.add(Flatten())"
   ]
  },
  {
   "cell_type": "code",
   "execution_count": 21,
   "metadata": {},
   "outputs": [],
   "source": [
    "# Step 4 - Full connection\n",
    "classifier.add(Dense(units = 128, activation = 'relu'))\n",
    "classifier.add(Dense(units = 1, activation = 'sigmoid'))"
   ]
  },
  {
   "cell_type": "code",
   "execution_count": 23,
   "metadata": {},
   "outputs": [],
   "source": [
    "# Compiling the CNN\n",
    "classifier.compile(optimizer = 'adam', loss = 'binary_crossentropy', metrics = ['accuracy'])"
   ]
  },
  {
   "cell_type": "code",
   "execution_count": 24,
   "metadata": {},
   "outputs": [
    {
     "name": "stdout",
     "output_type": "stream",
     "text": [
      "Found 8005 images belonging to 2 classes.\n",
      "Found 2023 images belonging to 2 classes.\n",
      "Epoch 1/25\n",
      "50/50 [==============================] - ETA: 0s - loss: 0.6910 - accuracy: 0.5431WARNING:tensorflow:Your input ran out of data; interrupting training. Make sure that your dataset or generator can generate at least `steps_per_epoch * epochs` batches (in this case, 2000 batches). You may need to use the repeat() function when building your dataset.\n",
      "50/50 [==============================] - 18s 369ms/step - loss: 0.6910 - accuracy: 0.5431 - val_loss: 0.6863 - val_accuracy: 0.7682\n",
      "Epoch 2/25\n",
      "50/50 [==============================] - ETA: 0s - loss: 0.6747 - accuracy: 0.7225WARNING:tensorflow:Your input ran out of data; interrupting training. Make sure that your dataset or generator can generate at least `steps_per_epoch * epochs` batches (in this case, 2000 batches). You may need to use the repeat() function when building your dataset.\n",
      "50/50 [==============================] - 19s 386ms/step - loss: 0.6747 - accuracy: 0.7225 - val_loss: 0.6521 - val_accuracy: 0.7489\n",
      "Epoch 3/25\n",
      "50/50 [==============================] - ETA: 0s - loss: 0.6255 - accuracy: 0.7494WARNING:tensorflow:Your input ran out of data; interrupting training. Make sure that your dataset or generator can generate at least `steps_per_epoch * epochs` batches (in this case, 2000 batches). You may need to use the repeat() function when building your dataset.\n",
      "50/50 [==============================] - 20s 403ms/step - loss: 0.6255 - accuracy: 0.7494 - val_loss: 0.5902 - val_accuracy: 0.7548\n",
      "Epoch 4/25\n",
      "50/50 [==============================] - ETA: 0s - loss: 0.5709 - accuracy: 0.7531WARNING:tensorflow:Your input ran out of data; interrupting training. Make sure that your dataset or generator can generate at least `steps_per_epoch * epochs` batches (in this case, 2000 batches). You may need to use the repeat() function when building your dataset.\n",
      "50/50 [==============================] - 20s 397ms/step - loss: 0.5709 - accuracy: 0.7531 - val_loss: 0.5539 - val_accuracy: 0.7528\n",
      "Epoch 5/25\n",
      "50/50 [==============================] - ETA: 0s - loss: 0.5680 - accuracy: 0.7262WARNING:tensorflow:Your input ran out of data; interrupting training. Make sure that your dataset or generator can generate at least `steps_per_epoch * epochs` batches (in this case, 2000 batches). You may need to use the repeat() function when building your dataset.\n",
      "50/50 [==============================] - 23s 453ms/step - loss: 0.5680 - accuracy: 0.7262 - val_loss: 0.5486 - val_accuracy: 0.7420\n",
      "Epoch 6/25\n",
      "50/50 [==============================] - ETA: 0s - loss: 0.5200 - accuracy: 0.7725WARNING:tensorflow:Your input ran out of data; interrupting training. Make sure that your dataset or generator can generate at least `steps_per_epoch * epochs` batches (in this case, 2000 batches). You may need to use the repeat() function when building your dataset.\n",
      "50/50 [==============================] - 22s 444ms/step - loss: 0.5200 - accuracy: 0.7725 - val_loss: 0.5271 - val_accuracy: 0.7553\n",
      "Epoch 7/25\n",
      "50/50 [==============================] - ETA: 0s - loss: 0.5243 - accuracy: 0.7556WARNING:tensorflow:Your input ran out of data; interrupting training. Make sure that your dataset or generator can generate at least `steps_per_epoch * epochs` batches (in this case, 2000 batches). You may need to use the repeat() function when building your dataset.\n",
      "50/50 [==============================] - 22s 434ms/step - loss: 0.5243 - accuracy: 0.7556 - val_loss: 0.5359 - val_accuracy: 0.7523\n",
      "Epoch 8/25\n",
      "50/50 [==============================] - ETA: 0s - loss: 0.5252 - accuracy: 0.7475WARNING:tensorflow:Your input ran out of data; interrupting training. Make sure that your dataset or generator can generate at least `steps_per_epoch * epochs` batches (in this case, 2000 batches). You may need to use the repeat() function when building your dataset.\n",
      "50/50 [==============================] - 24s 480ms/step - loss: 0.5252 - accuracy: 0.7475 - val_loss: 0.5182 - val_accuracy: 0.7553\n",
      "Epoch 9/25\n",
      "50/50 [==============================] - ETA: 0s - loss: 0.5022 - accuracy: 0.7705WARNING:tensorflow:Your input ran out of data; interrupting training. Make sure that your dataset or generator can generate at least `steps_per_epoch * epochs` batches (in this case, 2000 batches). You may need to use the repeat() function when building your dataset.\n",
      "50/50 [==============================] - 24s 479ms/step - loss: 0.5022 - accuracy: 0.7705 - val_loss: 0.4993 - val_accuracy: 0.7736\n",
      "Epoch 10/25\n",
      "50/50 [==============================] - ETA: 0s - loss: 0.4978 - accuracy: 0.7713WARNING:tensorflow:Your input ran out of data; interrupting training. Make sure that your dataset or generator can generate at least `steps_per_epoch * epochs` batches (in this case, 2000 batches). You may need to use the repeat() function when building your dataset.\n",
      "50/50 [==============================] - 24s 482ms/step - loss: 0.4978 - accuracy: 0.7713 - val_loss: 0.4966 - val_accuracy: 0.7820\n",
      "Epoch 11/25\n",
      "50/50 [==============================] - ETA: 0s - loss: 0.4810 - accuracy: 0.7788WARNING:tensorflow:Your input ran out of data; interrupting training. Make sure that your dataset or generator can generate at least `steps_per_epoch * epochs` batches (in this case, 2000 batches). You may need to use the repeat() function when building your dataset.\n",
      "50/50 [==============================] - 24s 481ms/step - loss: 0.4810 - accuracy: 0.7788 - val_loss: 0.4992 - val_accuracy: 0.7642\n",
      "Epoch 12/25\n",
      "50/50 [==============================] - ETA: 0s - loss: 0.5161 - accuracy: 0.7531WARNING:tensorflow:Your input ran out of data; interrupting training. Make sure that your dataset or generator can generate at least `steps_per_epoch * epochs` batches (in this case, 2000 batches). You may need to use the repeat() function when building your dataset.\n",
      "50/50 [==============================] - 24s 476ms/step - loss: 0.5161 - accuracy: 0.7531 - val_loss: 0.5046 - val_accuracy: 0.7598\n",
      "Epoch 13/25\n",
      "50/50 [==============================] - ETA: 0s - loss: 0.4785 - accuracy: 0.7800WARNING:tensorflow:Your input ran out of data; interrupting training. Make sure that your dataset or generator can generate at least `steps_per_epoch * epochs` batches (in this case, 2000 batches). You may need to use the repeat() function when building your dataset.\n",
      "50/50 [==============================] - 25s 493ms/step - loss: 0.4785 - accuracy: 0.7800 - val_loss: 0.5248 - val_accuracy: 0.7390\n",
      "Epoch 14/25\n",
      "50/50 [==============================] - ETA: 0s - loss: 0.4855 - accuracy: 0.7635WARNING:tensorflow:Your input ran out of data; interrupting training. Make sure that your dataset or generator can generate at least `steps_per_epoch * epochs` batches (in this case, 2000 batches). You may need to use the repeat() function when building your dataset.\n",
      "50/50 [==============================] - 23s 460ms/step - loss: 0.4855 - accuracy: 0.7635 - val_loss: 0.4814 - val_accuracy: 0.7761\n",
      "Epoch 15/25\n",
      "50/50 [==============================] - ETA: 0s - loss: 0.4964 - accuracy: 0.7638WARNING:tensorflow:Your input ran out of data; interrupting training. Make sure that your dataset or generator can generate at least `steps_per_epoch * epochs` batches (in this case, 2000 batches). You may need to use the repeat() function when building your dataset.\n",
      "50/50 [==============================] - 22s 441ms/step - loss: 0.4964 - accuracy: 0.7638 - val_loss: 0.4715 - val_accuracy: 0.7879\n",
      "Epoch 16/25\n",
      "50/50 [==============================] - ETA: 0s - loss: 0.4611 - accuracy: 0.7856WARNING:tensorflow:Your input ran out of data; interrupting training. Make sure that your dataset or generator can generate at least `steps_per_epoch * epochs` batches (in this case, 2000 batches). You may need to use the repeat() function when building your dataset.\n",
      "50/50 [==============================] - 22s 449ms/step - loss: 0.4611 - accuracy: 0.7856 - val_loss: 0.4944 - val_accuracy: 0.7642\n",
      "Epoch 17/25\n",
      "50/50 [==============================] - ETA: 0s - loss: 0.4584 - accuracy: 0.7850WARNING:tensorflow:Your input ran out of data; interrupting training. Make sure that your dataset or generator can generate at least `steps_per_epoch * epochs` batches (in this case, 2000 batches). You may need to use the repeat() function when building your dataset.\n"
     ]
    },
    {
     "name": "stdout",
     "output_type": "stream",
     "text": [
      "50/50 [==============================] - 23s 455ms/step - loss: 0.4584 - accuracy: 0.7850 - val_loss: 0.4660 - val_accuracy: 0.7855\n",
      "Epoch 18/25\n",
      "50/50 [==============================] - ETA: 0s - loss: 0.4463 - accuracy: 0.7944WARNING:tensorflow:Your input ran out of data; interrupting training. Make sure that your dataset or generator can generate at least `steps_per_epoch * epochs` batches (in this case, 2000 batches). You may need to use the repeat() function when building your dataset.\n",
      "50/50 [==============================] - 24s 472ms/step - loss: 0.4463 - accuracy: 0.7944 - val_loss: 0.4807 - val_accuracy: 0.7835\n",
      "Epoch 19/25\n",
      "50/50 [==============================] - ETA: 0s - loss: 0.4246 - accuracy: 0.8075WARNING:tensorflow:Your input ran out of data; interrupting training. Make sure that your dataset or generator can generate at least `steps_per_epoch * epochs` batches (in this case, 2000 batches). You may need to use the repeat() function when building your dataset.\n",
      "50/50 [==============================] - 22s 447ms/step - loss: 0.4246 - accuracy: 0.8075 - val_loss: 0.4937 - val_accuracy: 0.7672\n",
      "Epoch 20/25\n",
      "49/50 [============================>.] - ETA: 0s - loss: 0.4412 - accuracy: 0.8029WARNING:tensorflow:Your input ran out of data; interrupting training. Make sure that your dataset or generator can generate at least `steps_per_epoch * epochs` batches (in this case, 2000 batches). You may need to use the repeat() function when building your dataset.\n",
      "50/50 [==============================] - 25s 500ms/step - loss: 0.4406 - accuracy: 0.8029 - val_loss: 0.4688 - val_accuracy: 0.7899\n",
      "Epoch 21/25\n",
      "50/50 [==============================] - ETA: 0s - loss: 0.4294 - accuracy: 0.8087WARNING:tensorflow:Your input ran out of data; interrupting training. Make sure that your dataset or generator can generate at least `steps_per_epoch * epochs` batches (in this case, 2000 batches). You may need to use the repeat() function when building your dataset.\n",
      "50/50 [==============================] - 27s 548ms/step - loss: 0.4294 - accuracy: 0.8087 - val_loss: 0.4844 - val_accuracy: 0.7756\n",
      "Epoch 22/25\n",
      "50/50 [==============================] - ETA: 0s - loss: 0.4348 - accuracy: 0.8029WARNING:tensorflow:Your input ran out of data; interrupting training. Make sure that your dataset or generator can generate at least `steps_per_epoch * epochs` batches (in this case, 2000 batches). You may need to use the repeat() function when building your dataset.\n",
      "50/50 [==============================] - 24s 475ms/step - loss: 0.4348 - accuracy: 0.8029 - val_loss: 0.4654 - val_accuracy: 0.7904\n",
      "Epoch 23/25\n",
      "50/50 [==============================] - ETA: 0s - loss: 0.4369 - accuracy: 0.8061WARNING:tensorflow:Your input ran out of data; interrupting training. Make sure that your dataset or generator can generate at least `steps_per_epoch * epochs` batches (in this case, 2000 batches). You may need to use the repeat() function when building your dataset.\n",
      "50/50 [==============================] - 22s 447ms/step - loss: 0.4369 - accuracy: 0.8061 - val_loss: 0.4745 - val_accuracy: 0.7850\n",
      "Epoch 24/25\n",
      "50/50 [==============================] - ETA: 0s - loss: 0.4423 - accuracy: 0.8006WARNING:tensorflow:Your input ran out of data; interrupting training. Make sure that your dataset or generator can generate at least `steps_per_epoch * epochs` batches (in this case, 2000 batches). You may need to use the repeat() function when building your dataset.\n",
      "50/50 [==============================] - 25s 505ms/step - loss: 0.4423 - accuracy: 0.8006 - val_loss: 0.4611 - val_accuracy: 0.7934\n",
      "Epoch 25/25\n",
      "50/50 [==============================] - ETA: 0s - loss: 0.4487 - accuracy: 0.7856WARNING:tensorflow:Your input ran out of data; interrupting training. Make sure that your dataset or generator can generate at least `steps_per_epoch * epochs` batches (in this case, 2000 batches). You may need to use the repeat() function when building your dataset.\n",
      "50/50 [==============================] - 24s 473ms/step - loss: 0.4487 - accuracy: 0.7856 - val_loss: 0.4817 - val_accuracy: 0.7701\n"
     ]
    },
    {
     "data": {
      "text/plain": [
       "<tensorflow.python.keras.callbacks.History at 0x2553c263d30>"
      ]
     },
     "execution_count": 24,
     "metadata": {},
     "output_type": "execute_result"
    }
   ],
   "source": [
    "# Part 2 - Fitting the CNN to the images\n",
    "from keras.preprocessing.image import ImageDataGenerator\n",
    "train_datagen = ImageDataGenerator(rescale = 1./255,\n",
    "shear_range = 0.2,\n",
    "zoom_range = 0.2,\n",
    "horizontal_flip = True)\n",
    "test_datagen = ImageDataGenerator(rescale = 1./255)\n",
    "training_set = train_datagen.flow_from_directory('data/training_set',\n",
    "target_size = (64, 64),\n",
    "batch_size = 32,\n",
    "class_mode = 'binary')\n",
    "test_set = test_datagen.flow_from_directory('data/test_set',\n",
    "target_size = (64, 64),\n",
    "batch_size = 32,\n",
    "class_mode = 'binary')\n",
    "classifier.fit_generator(training_set,\n",
    "steps_per_epoch = 50,\n",
    "epochs = 25,\n",
    "validation_data = test_set,\n",
    "validation_steps = 2000)"
   ]
  },
  {
   "cell_type": "code",
   "execution_count": 27,
   "metadata": {},
   "outputs": [
    {
     "name": "stdout",
     "output_type": "stream",
     "text": [
      "cat\n"
     ]
    }
   ],
   "source": [
    "# Part 3 - Making new predictions\n",
    "import numpy as np\n",
    "from keras.preprocessing import image\n",
    "test_image = image.load_img('data/cat.1.jpg', target_size = (64, 64))\n",
    "test_image = image.img_to_array(test_image)\n",
    "test_image = np.expand_dims(test_image, axis = 0)\n",
    "result = classifier.predict(test_image)\n",
    "training_set.class_indices\n",
    "if result[0][0] == 1:\n",
    "    prediction = 'dog'\n",
    "else:\n",
    "    prediction = 'cat'\n",
    "print(prediction)"
   ]
  },
  {
   "cell_type": "code",
   "execution_count": null,
   "metadata": {},
   "outputs": [],
   "source": []
  }
 ],
 "metadata": {
  "kernelspec": {
   "display_name": "Python 3",
   "language": "python",
   "name": "python3"
  },
  "language_info": {
   "codemirror_mode": {
    "name": "ipython",
    "version": 3
   },
   "file_extension": ".py",
   "mimetype": "text/x-python",
   "name": "python",
   "nbconvert_exporter": "python",
   "pygments_lexer": "ipython3",
   "version": "3.8.3"
  }
 },
 "nbformat": 4,
 "nbformat_minor": 4
}
